{
 "cells": [
  {
   "cell_type": "code",
   "execution_count": null,
   "id": "74831356-fef5-4a24-9378-5e3637efbf52",
   "metadata": {},
   "outputs": [],
   "source": [
    "conda env create -f environment.yml && conda activate qwen3"
   ]
  },
  {
   "cell_type": "markdown",
   "id": "4c8fd391-051e-4e54-b178-5ed091ce9b9f",
   "metadata": {},
   "source": [
    "name: qwen3\n",
    "channels: [conda-forge, defaults]\n",
    "dependencies:\n",
    "  - python=3.10\n",
    "  - pip\n",
    "  - pip:\n",
    "      # —— 核心：与官方要求匹配 ——\n",
    "      - \"transformers>=4.51.0\"        # 文档硬性要求\n",
    "      - \"torch>=2.6\"                  # 官方推荐；请安装与你驱动/CUDA匹配的轮子\n",
    "      - accelerate                    # device_map=\"auto\" 需要\n",
    "      - tokenizers\n",
    "      - safetensors\n",
    "      - sentencepiece\n",
    "      - einops\n",
    "      - protobuf\n",
    "      - numpy\n",
    "      - scipy\n",
    "\n",
    "      # —— 可选：量化/FP8/性能 ——\n",
    "      - triton                        # 仅当你要跑 FP8 量化模型时（Linux/NVIDIA）\n"
   ]
  }
 ],
 "metadata": {
  "kernelspec": {
   "display_name": "Python 3 (ipykernel)",
   "language": "python",
   "name": "python3"
  },
  "language_info": {
   "codemirror_mode": {
    "name": "ipython",
    "version": 3
   },
   "file_extension": ".py",
   "mimetype": "text/x-python",
   "name": "python",
   "nbconvert_exporter": "python",
   "pygments_lexer": "ipython3",
   "version": "3.12.3"
  }
 },
 "nbformat": 4,
 "nbformat_minor": 5
}
