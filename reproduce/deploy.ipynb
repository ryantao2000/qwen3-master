{
 "cells": [
  {
   "cell_type": "code",
   "execution_count": null,
   "id": "74831356-fef5-4a24-9378-5e3637efbf52",
   "metadata": {},
   "outputs": [],
   "source": [
    "conda create -n qwen3 python=3.10 -y\n",
    "conda activate qwen3\n",
    "\n",
    "pip install torch==2.6.0 torchvision==0.21.0 torchaudio==2.6.0 --index-url https://download.pytorch.org/whl/cu126\n",
    "\n",
    "pip install \"transformers>=4.51.0\" accelerate tokenizers safetensors sentencepiece einops protobuf numpy scipy\n",
    "\n",
    "pip install \"vllm==0.9.0\"\n"
   ]
  },
  {
   "cell_type": "code",
   "execution_count": null,
   "id": "4c8fd391-051e-4e54-b178-5ed091ce9b9f",
   "metadata": {
    "vscode": {
     "languageId": "plaintext"
    }
   },
   "outputs": [],
   "source": [
    "# 验证安装\n",
    "python - <<'PY'\n",
    "import torch, transformers\n",
    "print(\"Torch:\", torch.__version__, \"CUDA available:\", torch.cuda.is_available())\n",
    "print(\"Transformers:\", transformers.__version__)\n",
    "if torch.cuda.is_available():\n",
    "    print(\"GPU:\", torch.cuda.get_device_name(0))\n",
    "PY\n"
   ]
  }
 ],
 "metadata": {
  "kernelspec": {
   "display_name": "Python 3 (ipykernel)",
   "language": "python",
   "name": "python3"
  },
  "language_info": {
   "codemirror_mode": {
    "name": "ipython",
    "version": 3
   },
   "file_extension": ".py",
   "mimetype": "text/x-python",
   "name": "python",
   "nbconvert_exporter": "python",
   "pygments_lexer": "ipython3",
   "version": "3.12.3"
  }
 },
 "nbformat": 4,
 "nbformat_minor": 5
}
